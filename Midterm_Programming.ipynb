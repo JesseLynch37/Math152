{
  "nbformat": 4,
  "nbformat_minor": 0,
  "metadata": {
    "colab": {
      "name": "Midterm_Programming.ipynb",
      "provenance": [],
      "collapsed_sections": [],
      "include_colab_link": true
    },
    "kernelspec": {
      "name": "python3",
      "display_name": "Python 3"
    },
    "language_info": {
      "name": "python"
    }
  },
  "cells": [
    {
      "cell_type": "markdown",
      "metadata": {
        "id": "view-in-github",
        "colab_type": "text"
      },
      "source": [
        "<a href=\"https://colab.research.google.com/github/JesseLynch37/Math152/blob/main/Midterm_Programming.ipynb\" target=\"_parent\"><img src=\"https://colab.research.google.com/assets/colab-badge.svg\" alt=\"Open In Colab\"/></a>"
      ]
    },
    {
      "cell_type": "markdown",
      "source": [
        "#Midterm Exam - Math 152 - Programming part\n",
        "\n",
        "Upload an .ipynb file to canvas"
      ],
      "metadata": {
        "id": "DksSzu8V2Oco"
      }
    },
    {
      "cell_type": "markdown",
      "source": [
        "# Four divisors\n",
        "Create a function ``` four_divisors(n) ``` that ```returns``` the ```list``` of numbers less than $n$ wich divisors are $1, p, q, n$ with $p\\neq q$ primes. For example:\n",
        "\n",
        "```four_divisors(25) = [6, 10, 14, 15, 21, 22]```\n",
        "\n",
        "Hint: look at the multiplication of different primes, you can use ```where(L)``` and ```isprime_list(n)```\n",
        "\n",
        "> Input : positive integer\n",
        "\n",
        "> Output: list\n",
        "\n"
      ],
      "metadata": {
        "id": "ezSUQqgO9qX-"
      }
    },
    {
      "cell_type": "code",
      "source": [
        "from math import sqrt\n",
        "def isprime_list(n):\n",
        "    ''' \n",
        "    Return a list of length n+1\n",
        "    with Trues at prime indices and Falses at composite indices.\n",
        "    '''\n",
        "    flags = [True] * (n+1)  # A list [True, True, True,...] to start.\n",
        "    flags[0] = False  # Zero is not prime.  So its flag is set to False.\n",
        "    flags[1] = False  # One is not prime.  So its flag is set to False.\n",
        "    flags[4::2] = [False] * ((n-2)//2)\n",
        "    p = 3\n",
        "    while p <= sqrt(n):  # We only need to sieve by p is p <= sqrt(n).\n",
        "        if flags[p]:  # We sieve the multiples of p if flags[p]=True.\n",
        "            flags[p*p::2*p] = [False] * ((n-p*p)//(2*p)+1) # Sieves out multiples of p, starting at p*p.\n",
        "        p = p + 2 # Try the next value of p.\n",
        "        \n",
        "    return flags\n",
        "    \n",
        "def where(L):\n",
        "    '''\n",
        "    Take a list of booleans as input and\n",
        "    outputs the list of indices where True occurs.\n",
        "    '''\n",
        "    return [n for n in range(len(L)) if L[n]]\n",
        "\n",
        "print(where(isprime_list(int(14**0.5))))\n",
        "print(isprime_list(14))"
      ],
      "metadata": {
        "id": "Qxs3rYzoS7UM",
        "colab": {
          "base_uri": "https://localhost:8080/"
        },
        "outputId": "8fd9f2e4-031b-4947-d5d4-7f6c65716d9f"
      },
      "execution_count": 14,
      "outputs": [
        {
          "output_type": "stream",
          "name": "stdout",
          "text": [
            "[2, 3]\n",
            "[False, False, True, True, False, True, False, True, False, False, False, True, False, True, False]\n"
          ]
        }
      ]
    },
    {
      "cell_type": "code",
      "source": [
        "#Your answer goes here\n",
        "def four_divisors(num):\n",
        "  resultant_list = []\n",
        "  primes = where(isprime_list(num))\n",
        "  for n in range(1, num):\n",
        "    valid_nums = []\n",
        "    divisor_list = [i for i in range(1, n) if n%i == 0] + [n]\n",
        "    if len(divisor_list) == 4 and divisor_list[1] in primes and divisor_list[2] in primes:\n",
        "      resultant_list.append(n)\n",
        "  return resultant_list\n",
        "\n",
        "four_divisors(25)"
      ],
      "metadata": {
        "id": "fEmoCVqTVY6f",
        "colab": {
          "base_uri": "https://localhost:8080/"
        },
        "outputId": "98c4c8c5-0393-4bba-f93a-5eedd3bd4aba"
      },
      "execution_count": 44,
      "outputs": [
        {
          "output_type": "execute_result",
          "data": {
            "text/plain": [
              "[6, 10, 14, 15, 21, 22]"
            ]
          },
          "metadata": {},
          "execution_count": 44
        }
      ]
    },
    {
      "cell_type": "markdown",
      "source": [
        "# Taylor Series \n",
        "Using Taylor series, define a function ```exp_plus_atan(x)``` that approximates \n",
        "\n",
        "$$e^{x} + \\arctan(x) $$\n",
        "\n",
        "for $x\\in (-1,1)$ with a precision of 5 digits.\n",
        "\n",
        "Remember that \n",
        "\n",
        "$$\\arctan(x) = x - \\frac{x^3}{3} + \\frac{x^5}{5} - \\cdots$$\n",
        "\n",
        "> Input : float in (-1,1)\n",
        "\n",
        "> Output: float\n"
      ],
      "metadata": {
        "id": "uVvEE0YKARyU"
      }
    },
    {
      "cell_type": "code",
      "source": [
        "from math import factorial"
      ],
      "metadata": {
        "id": "eaMNx9dbzsA1"
      },
      "execution_count": 48,
      "outputs": []
    },
    {
      "cell_type": "code",
      "source": [
        "#Your answer goes here\n",
        "def arctan(x):\n",
        "  result = 0\n",
        "  sign = 1\n",
        "  n = 1\n",
        "  while abs((x ** n) / n) > 10 ** -5:\n",
        "    result += sign * (x ** n) / n\n",
        "    n += 2\n",
        "    sign *= -1\n",
        "  return result\n",
        "\n",
        "def exp(x):\n",
        "  result = 1\n",
        "  n = 1\n",
        "  while n / factorial(n) > 10 ** -5:\n",
        "    result += (x ** n) / factorial(n)\n",
        "    n += 1\n",
        "  return result\n",
        "\n",
        "def exp_plus_atan(x):\n",
        "  return round(exp(x) + arctan(x), 5)\n",
        "\n",
        "exp_plus_atan(-0.76)"
      ],
      "metadata": {
        "id": "J71lp-NcUcl_",
        "colab": {
          "base_uri": "https://localhost:8080/"
        },
        "outputId": "bf003bc5-7622-4120-ba33-81160de2eac7"
      },
      "execution_count": 66,
      "outputs": [
        {
          "output_type": "execute_result",
          "data": {
            "text/plain": [
              "-0.18221"
            ]
          },
          "metadata": {},
          "execution_count": 66
        }
      ]
    }
  ]
}