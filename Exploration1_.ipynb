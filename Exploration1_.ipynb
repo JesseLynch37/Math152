{
  "nbformat": 4,
  "nbformat_minor": 0,
  "metadata": {
    "colab": {
      "name": "Exploration1_.ipynb",
      "provenance": [],
      "collapsed_sections": [
        "xALfQvSAUxoJ",
        "DmTcMrcQYQ5q",
        "za1mcGY7c2Jy"
      ],
      "authorship_tag": "ABX9TyPbsr+ggo+LebJhJeRZlyjQ",
      "include_colab_link": true
    },
    "kernelspec": {
      "name": "python3",
      "display_name": "Python 3"
    },
    "language_info": {
      "name": "python"
    }
  },
  "cells": [
    {
      "cell_type": "markdown",
      "metadata": {
        "id": "view-in-github",
        "colab_type": "text"
      },
      "source": [
        "<a href=\"https://colab.research.google.com/github/JesseLynch37/Math152/blob/main/Exploration1_.ipynb\" target=\"_parent\"><img src=\"https://colab.research.google.com/assets/colab-badge.svg\" alt=\"Open In Colab\"/></a>"
      ]
    },
    {
      "cell_type": "markdown",
      "source": [
        "# Exploration 1 - Group 2\n",
        "## Collatz Conjecture\n",
        "Tanner Boyea, Laura Daniels, Jesse Lynch, Gavin Moss, Alexei Pelyushenko"
      ],
      "metadata": {
        "id": "xALfQvSAUxoJ"
      }
    },
    {
      "cell_type": "markdown",
      "source": [
        "##About this exploration:\n",
        "Consider any positive integer *n*. If it is even, divide it by two. If it is odd, replace *n* with 3*n* + 1. Then repeat. The Collatz Conjecture claims that if you start with any positive integer, this process will lead to a repeating cycle of 1, 2, 4. This exploration will explore several different aspects of this process.\n",
        "\n",
        "The different sections of this exploration include:\n",
        "\n",
        "*   Verify that all positive integers up to 1,000,000 terminate\n",
        "*   Number of steps to termination\n",
        "*   What happens to negative integers\n",
        "*   Cycle size in negative integers\n",
        "*   Changing the rules\n",
        "\n"
      ],
      "metadata": {
        "id": "jF93cXQHViIH"
      }
    },
    {
      "cell_type": "markdown",
      "source": [
        "#Verifying Collatz Conjecture up to 1,000,000:"
      ],
      "metadata": {
        "id": "DmTcMrcQYQ5q"
      }
    },
    {
      "cell_type": "code",
      "source": [
        "#  Importing time to be used to test efficieny of code\n",
        "from time import time"
      ],
      "metadata": {
        "id": "2YWG-RdpY0m2"
      },
      "execution_count": null,
      "outputs": []
    },
    {
      "cell_type": "markdown",
      "source": [
        "We know that the numbers 1, 2, and 4 form an infinate cycle.\n",
        "\n",
        "Therefore, if n is ever 1, 2, or 4, we can stop the loop."
      ],
      "metadata": {
        "id": "dObKoo4HZG65"
      }
    },
    {
      "cell_type": "code",
      "source": [
        "#  Confirming that first 1,000,000 integers terminate:\n",
        "time0 = time()\n",
        "\n",
        "for N in range(1, 1000001):\n",
        "    n = N\n",
        "    while n not in [1, 2, 4]:\n",
        "        if n%2 == 0:\n",
        "            n //= 2\n",
        "        else:\n",
        "            n = 3 * n + 1\n",
        "\n",
        "print(\"First 1,000,000 integers successfully terminated in {} seconds.\".format(time() - time0))"
      ],
      "metadata": {
        "colab": {
          "base_uri": "https://localhost:8080/"
        },
        "id": "gjIZSJInYe4M",
        "outputId": "733705fe-00ae-471a-b550-3ca680f56679"
      },
      "execution_count": null,
      "outputs": [
        {
          "output_type": "stream",
          "name": "stdout",
          "text": [
            "First 1,000,000 integers successfully terminated in 32.243863582611084 seconds.\n"
          ]
        }
      ]
    },
    {
      "cell_type": "markdown",
      "source": [
        "If we know all integers smaller than k terminate, we can stop the loop if n ever becomes smaller than k.\n",
        "\n",
        "If n is even and we know all k < n terminate, we can conclude n terminates without testing it.\n",
        "\n",
        "More efficient way of testing first 1,000,000 integers:"
      ],
      "metadata": {
        "id": "xpIYGz8iZlRX"
      }
    },
    {
      "cell_type": "code",
      "source": [
        "#  More efficient way of testing first 1,000,000 integers:\n",
        "time0 = time()\n",
        "\n",
        "for N in range(3, 1000001, 2):\n",
        "    n = N\n",
        "    while n >= N:\n",
        "        if n%2 == 0:\n",
        "            n //= 2\n",
        "        else:\n",
        "            n = 3 * n + 1\n",
        "print(\"First 1,000,000 integers successfully terminated in {} seconds.\".format(time() - time0))"
      ],
      "metadata": {
        "colab": {
          "base_uri": "https://localhost:8080/"
        },
        "id": "ZgQYcgEfZj7I",
        "outputId": "f5602ac2-af14-4214-8641-ad50b89227aa"
      },
      "execution_count": null,
      "outputs": [
        {
          "output_type": "stream",
          "name": "stdout",
          "text": [
            "First 1,000,000 integers successfully terminated in 1.2860963344573975 seconds.\n"
          ]
        }
      ]
    },
    {
      "cell_type": "markdown",
      "source": [
        "We can define a function that replaces a chunk of this code to make future coding easier."
      ],
      "metadata": {
        "id": "1zHlcuYcaomn"
      }
    },
    {
      "cell_type": "code",
      "source": [
        "#  Defining a function that makes future code simpler:\n",
        "def collatz(n):\n",
        "    return [3*n+1, n//2][n%2 == 0]\n",
        "#  If n is odd, \"n%2 == 0\" will be 0, so the function will return 3*n+1.\n",
        "#  If n is even, \"n%2 == 0\" will be 1, so the function will return n//2."
      ],
      "metadata": {
        "id": "LwjJEk3Nakze"
      },
      "execution_count": null,
      "outputs": []
    },
    {
      "cell_type": "code",
      "source": [
        "#  More efficient test now using function:\n",
        "time0 = time()\n",
        "for N in range(3, 1000001, 2):\n",
        "    n = N\n",
        "    while n >= N:\n",
        "        n = collatz(n)\n",
        "print(\"First 1,000,000 integers successfully terminated in {} seconds.\".format(time() - time0))"
      ],
      "metadata": {
        "colab": {
          "base_uri": "https://localhost:8080/"
        },
        "id": "h_ZFvyAyayIW",
        "outputId": "8367801e-7625-420f-8f37-aa240a9570e3"
      },
      "execution_count": null,
      "outputs": [
        {
          "output_type": "stream",
          "name": "stdout",
          "text": [
            "First 1,000,000 integers successfully terminated in 1.9930322170257568 seconds.\n"
          ]
        }
      ]
    },
    {
      "cell_type": "markdown",
      "source": [
        "This way isn't quite as fast, but still pretty good and much easier to work with."
      ],
      "metadata": {
        "id": "aEr8Snz2a8As"
      }
    },
    {
      "cell_type": "markdown",
      "source": [
        "# Number of steps to terminate:"
      ],
      "metadata": {
        "id": "VmG1HB32cj6L"
      }
    },
    {
      "cell_type": "code",
      "source": [
        "#  Number of steps for n to reach 1, 2, or 4 for all positive n up to 100:\n",
        "for N in range(1, 101):\n",
        "  n = N\n",
        "  steps = 0\n",
        "  while n not in [1, 2, 4]:\n",
        "    steps += 1\n",
        "    n = collatz(n)\n",
        "  print(N, steps)"
      ],
      "metadata": {
        "id": "syNoGF7dcs8s"
      },
      "execution_count": null,
      "outputs": []
    },
    {
      "cell_type": "markdown",
      "source": [
        "Of course, the numbers 1, 2, and 4 take 0 steps.\n",
        "\n",
        "Powers of 2 take k steps, where k satisfies 2^k = n/4.\n",
        "\n",
        "The number that takes the most steps is 97, with 116 steps."
      ],
      "metadata": {
        "id": "zlRt_aYVhWZl"
      }
    },
    {
      "cell_type": "code",
      "source": [
        "#  Finding greatest number of steps for n to reach 1, 2, or 4 for all positive n up to 1,000,000:\n",
        "max_steps = 0\n",
        "for N in range(1, 1000001):\n",
        "  n = N\n",
        "  steps = 0\n",
        "  while n not in [1, 2, 4]:\n",
        "    steps += 1\n",
        "    n = collatz(n)\n",
        "  if steps > max_steps:\n",
        "    print(N, steps)\n",
        "    max_steps = steps"
      ],
      "metadata": {
        "id": "i9nGF8n8ix6q"
      },
      "execution_count": null,
      "outputs": []
    },
    {
      "cell_type": "markdown",
      "source": [
        "The number that takes the most steps for all n up to 1,000,000 is 837799, with 522 steps."
      ],
      "metadata": {
        "id": "Di7n1dL-lEjk"
      }
    },
    {
      "cell_type": "code",
      "source": [
        "#  Number of steps for n to become smaller than it was initially for all positive n up to 100:\n",
        "#  Skipping even numbers because number of steps will always be 1.\n",
        "for N in range(3, 101, 2):\n",
        "  n = N\n",
        "  steps = 0\n",
        "  while n >= N:\n",
        "    steps += 1\n",
        "    n = collatz(n)\n",
        "  print(N, steps)"
      ],
      "metadata": {
        "id": "NjUSIy6DnLIJ"
      },
      "execution_count": null,
      "outputs": []
    },
    {
      "cell_type": "markdown",
      "source": [
        "Every number thats 1 more than a multiple for 4 takes 3 steps.\n",
        "\n",
        "11 takes 8 steps to get smaller. 12 more than that also takes 8 steps. 20 more than that also takes 8 steps. 12 more than that also takes 8 steps. This +12, +20 pattern seems to continue indefinitely.\n",
        "\n"
      ],
      "metadata": {
        "id": "E0MlyBG_n2YP"
      }
    },
    {
      "cell_type": "code",
      "source": [
        "#  Finding greatest number of steps for n to reach get smaller for all positive n up to 1,000,000:\n",
        "max_steps = 0\n",
        "for N in range(3, 1000001, 2):\n",
        "  n = N\n",
        "  steps = 0\n",
        "  while n >= N:\n",
        "    steps += 1\n",
        "    n = collatz(n)\n",
        "  if steps > max_steps:\n",
        "    print(N, steps)\n",
        "    max_steps = steps"
      ],
      "metadata": {
        "colab": {
          "base_uri": "https://localhost:8080/"
        },
        "id": "rmmYzSRvra3I",
        "outputId": "7b40e2e4-4d19-4d99-e53a-f7c81b09fdd2"
      },
      "execution_count": null,
      "outputs": [
        {
          "output_type": "stream",
          "name": "stdout",
          "text": [
            "3 6\n",
            "7 11\n",
            "27 96\n",
            "703 132\n",
            "10087 171\n",
            "35655 220\n",
            "270271 267\n",
            "362343 269\n",
            "381727 282\n",
            "626331 287\n"
          ]
        }
      ]
    },
    {
      "cell_type": "markdown",
      "source": [
        "The number that takes the most steps for all n up to 1,000,000 is 626331, with 287 steps."
      ],
      "metadata": {
        "id": "nuxo9Vpkrp54"
      }
    },
    {
      "cell_type": "markdown",
      "source": [
        "# Negative integers:"
      ],
      "metadata": {
        "id": "za1mcGY7c2Jy"
      }
    },
    {
      "cell_type": "code",
      "source": [
        "#  Testing -1:\n",
        "n = -1\n",
        "for i in range(10):\n",
        "  print(n)\n",
        "  n = collatz(n)"
      ],
      "metadata": {
        "colab": {
          "base_uri": "https://localhost:8080/"
        },
        "id": "tgOffsCEc444",
        "outputId": "be604c8d-4b6c-4472-bc17-78edccb34e45"
      },
      "execution_count": null,
      "outputs": [
        {
          "output_type": "stream",
          "name": "stdout",
          "text": [
            "-1\n",
            "-2\n",
            "-1\n",
            "-2\n",
            "-1\n",
            "-2\n",
            "-1\n",
            "-2\n",
            "-1\n",
            "-2\n"
          ]
        }
      ]
    },
    {
      "cell_type": "markdown",
      "source": [
        "Starting at -1 leads to a cycle of -1, -2.\n",
        "\n",
        "This means -2 will also have this result."
      ],
      "metadata": {
        "id": "jjIqKuvIdBJK"
      }
    },
    {
      "cell_type": "code",
      "source": [
        "#  Testing -3:\n",
        "n = -3\n",
        "for i in range(10):\n",
        "  print(n)\n",
        "  n = collatz(n)"
      ],
      "metadata": {
        "colab": {
          "base_uri": "https://localhost:8080/"
        },
        "id": "Oh8mcxoQdHrq",
        "outputId": "6138309e-4532-41b1-ffe0-bba894d7bcf5"
      },
      "execution_count": null,
      "outputs": [
        {
          "output_type": "stream",
          "name": "stdout",
          "text": [
            "-3\n",
            "-8\n",
            "-4\n",
            "-2\n",
            "-1\n",
            "-2\n",
            "-1\n",
            "-2\n",
            "-1\n",
            "-2\n"
          ]
        }
      ]
    },
    {
      "cell_type": "markdown",
      "source": [
        "Starting at -3 also leads to a -1, -2 cycle.\n",
        "\n",
        "Conjecture A: all negative integers will lead to a -1, -2 cycle."
      ],
      "metadata": {
        "id": "lzM_0t1XdLa4"
      }
    },
    {
      "cell_type": "code",
      "source": [
        "#  Testing Conjecture A for first 100 negative integers:\n",
        "for N in range(-1, -101, -1):\n",
        "  n = N\n",
        "  while n not in [-1, -2]:\n",
        "    print(N, n)\n",
        "    n = collatz(n)\n",
        "print(\"First 100 negative integers successfully terminated\")"
      ],
      "metadata": {
        "id": "QFGWYaUadPR3"
      },
      "execution_count": null,
      "outputs": []
    },
    {
      "cell_type": "markdown",
      "source": [
        "Conjecture A failed at -5, which lead to a -5, -14, -7, -20, -10 cycle.\n",
        "\n",
        "Conjecture B: all negative integers will lead to a -1, -2 cycle or a -5, -14, -7, -20, -10 cycle."
      ],
      "metadata": {
        "id": "yov3z4X_eUab"
      }
    },
    {
      "cell_type": "code",
      "source": [
        "#  Testing Conjecture B for first 100 negative integers:\n",
        "for N in range(-1, -101, -1):\n",
        "  n = N\n",
        "  while n not in [-1, -2, -5, -14, -7, -20, -10]:\n",
        "    print(N, n)\n",
        "    n = collatz(n)\n",
        "print(\"First 100 negative integers successfully terminated\")"
      ],
      "metadata": {
        "id": "HeUtQ4zsebCD"
      },
      "execution_count": null,
      "outputs": []
    },
    {
      "cell_type": "markdown",
      "source": [
        "Conjecture B failed at -17, which lead to a cycle with length 18.\n",
        "\n",
        "Conjecture C: all negative integers will lead to a repeating cycle.\n"
      ],
      "metadata": {
        "id": "_1s_pYBMelsX"
      }
    },
    {
      "cell_type": "code",
      "source": [
        "#  Testing Conjecture C for first 100 negative integers:\n",
        "for N in range(-1, -10001, -1):\n",
        "  n = N\n",
        "  current_chain = []\n",
        "  while n not in current_chain:\n",
        "    current_chain.append(n)\n",
        "    n = collatz(n)\n",
        "print(\"First 10,000 negative integers successfully terminated\")"
      ],
      "metadata": {
        "colab": {
          "base_uri": "https://localhost:8080/"
        },
        "id": "F3umiw76e1Hc",
        "outputId": "c5fbf01a-5688-4d22-c9ac-35b326403fb8"
      },
      "execution_count": null,
      "outputs": [
        {
          "output_type": "stream",
          "name": "stdout",
          "text": [
            "First 10,000 negative integers successfully terminated\n"
          ]
        }
      ]
    }
  ]
}