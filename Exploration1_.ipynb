{
  "nbformat": 4,
  "nbformat_minor": 0,
  "metadata": {
    "colab": {
      "name": "Exploration1_.ipynb",
      "provenance": [],
      "collapsed_sections": [
        "xALfQvSAUxoJ",
        "DmTcMrcQYQ5q",
        "za1mcGY7c2Jy"
      ],
      "toc_visible": true,
      "include_colab_link": true
    },
    "kernelspec": {
      "name": "python3",
      "display_name": "Python 3"
    },
    "language_info": {
      "name": "python"
    }
  },
  "cells": [
    {
      "cell_type": "markdown",
      "metadata": {
        "id": "view-in-github",
        "colab_type": "text"
      },
      "source": [
        "<a href=\"https://colab.research.google.com/github/JesseLynch37/Math152/blob/main/Exploration1_.ipynb\" target=\"_parent\"><img src=\"https://colab.research.google.com/assets/colab-badge.svg\" alt=\"Open In Colab\"/></a>"
      ]
    },
    {
      "cell_type": "markdown",
      "source": [
        "# Exploration 1 - Group 2\n",
        "## Collatz Conjecture\n",
        "Tanner Boyea, Laura Daniels, Jesse Lynch, Gavin Moss, Alexei Pelyushenko"
      ],
      "metadata": {
        "id": "xALfQvSAUxoJ"
      }
    },
    {
      "cell_type": "markdown",
      "source": [
        "##About this exploration:\n",
        "In this exploration, we will consider a positive integer *n*. We will then apply an algorithm, in order to achieve a repeating sequence of 4 → 2 → 1 → 4.... This is known as The Collatz Conjecture. The Collatz Conjecture has yet to be proven, nor disproven.\n",
        "\n",
        "The different sections of this exploration include:\n",
        "\n",
        "* The algorithm\n",
        "*   A verification that all positive integers up to 1,000,000 follow the conjecture\n",
        "*   Counting the number of steps to termination\n",
        "*   What happens when the conjecture is applied to negative integers \n",
        "\n",
        "\n",
        "\n"
      ],
      "metadata": {
        "id": "jF93cXQHViIH"
      }
    },
    {
      "cell_type": "markdown",
      "source": [
        "##The Collatz Conjucture algorithm\n",
        "Start with a positive integer. \n",
        "\n",
        "If the integer is odd, we will multiply it by 3, then added by 1. If the integer is even, we will divide it by 2. \n",
        "\n",
        "The Collatz Conjecture claims that if we repeat this process, any positive integer will result in a loop of 4 (which we divide by 2 since it's even) → 2 (we once again divide by 2) → 1 (which is odd, so we multiply by 3, then add 1) → 4 → 2 → 1 → 4 → 2 → 1..."
      ],
      "metadata": {
        "id": "_WoTWb0XbbPL"
      }
    },
    {
      "cell_type": "markdown",
      "source": [
        "##Verifying Collatz Conjecture up to 1,000,000:\n",
        "In this section we will explore different programming methods in order to verify the Collatz Conjecture holds for every positive integer up to 1 million. We will progressively add strategies so that python can run these tests as efficiently as possible."
      ],
      "metadata": {
        "id": "DmTcMrcQYQ5q"
      }
    },
    {
      "cell_type": "code",
      "source": [
        "#  Importing time to be used to test efficieny of code\n",
        "from time import time"
      ],
      "metadata": {
        "id": "2YWG-RdpY0m2"
      },
      "execution_count": null,
      "outputs": []
    },
    {
      "cell_type": "markdown",
      "source": [
        "\n",
        "We know that the numbers 1, 2, and 4 form an infinite cycle.\n",
        "\n",
        "Therefore, if n is ever 1, 2, or 4, we can stop the loop."
      ],
      "metadata": {
        "id": "dObKoo4HZG65"
      }
    },
    {
      "cell_type": "code",
      "source": [
        "#  Confirming that first 1,000,000 integers terminate:\n",
        "time0 = time()\n",
        "\n",
        "for N in range(1, 1000001):\n",
        "    n = N\n",
        "    while n not in [1, 2, 4]:\n",
        "        if n%2 == 0:\n",
        "            n //= 2\n",
        "        else:\n",
        "            n = 3 * n + 1\n",
        "\n",
        "print(\"First 1,000,000 integers successfully terminated in {} seconds.\".format(time() - time0))"
      ],
      "metadata": {
        "id": "gjIZSJInYe4M"
      },
      "execution_count": null,
      "outputs": []
    },
    {
      "cell_type": "markdown",
      "source": [
        "#Improvement #1\n",
        " If we know all integers smaller than k terminate, we can stop the loop if n ever becomes smaller than k.\n",
        "\n",
        "If n is even and we know all k < n terminate, we can conclude n terminates without testing it.\n",
        "\n",
        "More efficient way of testing first 1,000,000 integers:"
      ],
      "metadata": {
        "id": "xpIYGz8iZlRX"
      }
    },
    {
      "cell_type": "code",
      "source": [
        "#  More efficient way of testing first 1,000,000 integers:\n",
        "time0 = time()\n",
        "\n",
        "for N in range(3, 1000001, 2):\n",
        "    n = N\n",
        "    while n >= N:\n",
        "        if n%2 == 0:\n",
        "            n //= 2\n",
        "        else:\n",
        "            n = 3 * n + 1\n",
        "print(\"First 1,000,000 integers successfully terminated in {} seconds.\".format(time() - time0))"
      ],
      "metadata": {
        "id": "ZgQYcgEfZj7I"
      },
      "execution_count": null,
      "outputs": []
    },
    {
      "cell_type": "markdown",
      "source": [
        "#Improvement #2\n",
        "We can define a function that replaces a chunk of this code to make future coding easier."
      ],
      "metadata": {
        "id": "1zHlcuYcaomn"
      }
    },
    {
      "cell_type": "code",
      "source": [
        "def collatz(n):\n",
        "  return [n//2, 3*n+1][n%2]"
      ],
      "metadata": {
        "id": "LwjJEk3Nakze"
      },
      "execution_count": 4,
      "outputs": []
    },
    {
      "cell_type": "code",
      "source": [
        "#  More efficient test now using function:\n",
        "time0 = time()\n",
        "for N in range(3, 1000001, 2):\n",
        "    n = N\n",
        "    while n >= N:\n",
        "        n = collatz(n)\n",
        "print(\"First 1,000,000 integers successfully terminated in {} seconds.\".format(time() - time0))"
      ],
      "metadata": {
        "id": "h_ZFvyAyayIW",
        "outputId": "b7498c29-32d3-4e1b-fbea-cae5b9a1c614",
        "colab": {
          "base_uri": "https://localhost:8080/"
        }
      },
      "execution_count": null,
      "outputs": [
        {
          "output_type": "stream",
          "name": "stdout",
          "text": [
            "First 1,000,000 integers successfully terminated in 1.7755839824676514 seconds.\n"
          ]
        }
      ]
    },
    {
      "cell_type": "markdown",
      "source": [
        "This way isn't quite as fast, but still pretty good and much easier to work with."
      ],
      "metadata": {
        "id": "aEr8Snz2a8As"
      }
    },
    {
      "cell_type": "markdown",
      "source": [
        "## Number of steps to terminate\n",
        "For the sake of both curiousity and analysis, we can count the number of times we must cycle through through the algorithm in order to reach our loop of 4 → 2 → 1."
      ],
      "metadata": {
        "id": "VmG1HB32cj6L"
      }
    },
    {
      "cell_type": "markdown",
      "source": [
        "#Discoveries\n",
        "Afer adding a steps counter, we will now test our code on the integers from 1 to 100 by applying both the counter and the collatz function we defined earlier."
      ],
      "metadata": {
        "id": "CgQdNwj9kZtm"
      }
    },
    {
      "cell_type": "code",
      "source": [
        "#  Number of steps for n to reach 1, 2, or 4 for all positive n up to 100:\n",
        "for N in range(1, 101):\n",
        "  n = N\n",
        "  steps = 0\n",
        "  while n not in [1, 2, 4]:\n",
        "    steps += 1\n",
        "    n = collatz(n)\n",
        "  print(N, steps)"
      ],
      "metadata": {
        "id": "syNoGF7dcs8s"
      },
      "execution_count": null,
      "outputs": []
    },
    {
      "cell_type": "markdown",
      "source": [
        "Of course, the numbers 1, 2, and 4 take 0 steps.\n",
        "\n",
        "Past that, we have discovered that:\n",
        "\n",
        "* Powers of 2 take k steps, where k satisfies $2^k = \\frac{n}{4}.$\n",
        "\n",
        "* The integer that takes the most steps from from 1-100 is 97, taking a total 116 steps to terminate."
      ],
      "metadata": {
        "id": "zlRt_aYVhWZl"
      }
    },
    {
      "cell_type": "code",
      "source": [
        "#  Finding greatest number of steps for n to reach 1, 2, or 4 for all positive n up to 1,000,000:\n",
        "max_steps = 0\n",
        "for N in range(1, 1000001):\n",
        "  n = N\n",
        "  steps = 0\n",
        "  while n not in [1, 2, 4]:\n",
        "    steps += 1\n",
        "    n = collatz(n)\n",
        "  if steps > max_steps:\n",
        "    print(N, steps)\n",
        "    max_steps = steps"
      ],
      "metadata": {
        "id": "i9nGF8n8ix6q"
      },
      "execution_count": null,
      "outputs": []
    },
    {
      "cell_type": "markdown",
      "source": [
        "After programming a cell to count the steps of each integer from 1-1,000,000, we discover that:\n",
        "\n",
        "* The number that takes the most steps for all n up to 1,000,000 is $837799$, with a total of $522$ steps."
      ],
      "metadata": {
        "id": "Di7n1dL-lEjk"
      }
    },
    {
      "cell_type": "code",
      "source": [
        "#  Number of steps for n to become smaller than it was initially for all positive n up to 100:\n",
        "#  Skipping even numbers because number of steps will always be 1.\n",
        "for N in range(3, 101, 2):\n",
        "  n = N\n",
        "  steps = 0\n",
        "  while n >= N:\n",
        "    steps += 1\n",
        "    n = collatz(n)\n",
        "  print(N, steps)"
      ],
      "metadata": {
        "id": "NjUSIy6DnLIJ"
      },
      "execution_count": null,
      "outputs": []
    },
    {
      "cell_type": "markdown",
      "source": [
        "#Additional Discoveries\n",
        "Some other patterns we recognize is that:\n",
        "\n",
        "* Every number thats 1 more than a multiple for 4 takes 3 steps.\n",
        "\n",
        "* 11 takes 8 steps to get smaller. 12 more than that also takes 8 steps. 20 more than that also takes 8 steps. 12 more than that also takes 8 steps. This +12, +20 pattern seems to continue indefinitely.\n",
        "\n"
      ],
      "metadata": {
        "id": "E0MlyBG_n2YP"
      }
    },
    {
      "cell_type": "code",
      "source": [
        "#  Finding greatest number of steps for n to reach get smaller for all positive n up to 1,000,000:\n",
        "max_steps = 0\n",
        "for N in range(3, 1000001, 2):\n",
        "  n = N\n",
        "  steps = 0\n",
        "  while n >= N:\n",
        "    steps += 1\n",
        "    n = collatz(n)\n",
        "  if steps > max_steps:\n",
        "    print(N, steps)\n",
        "    max_steps = steps"
      ],
      "metadata": {
        "id": "rmmYzSRvra3I",
        "colab": {
          "base_uri": "https://localhost:8080/"
        },
        "outputId": "7872c523-1f77-415e-df83-ae9077944548"
      },
      "execution_count": 14,
      "outputs": [
        {
          "output_type": "stream",
          "name": "stdout",
          "text": [
            "3 6\n",
            "7 11\n",
            "27 96\n",
            "703 132\n",
            "10087 171\n",
            "35655 220\n",
            "270271 267\n",
            "362343 269\n",
            "381727 282\n",
            "626331 287\n"
          ]
        }
      ]
    },
    {
      "cell_type": "markdown",
      "source": [
        "The number that takes the most steps for all n up to 1,000,000 is $626331$, with $287$ steps."
      ],
      "metadata": {
        "id": "nuxo9Vpkrp54"
      }
    },
    {
      "cell_type": "code",
      "source": [
        "import matplotlib.pyplot as plt"
      ],
      "metadata": {
        "id": "J9Ita9cGxaZ3"
      },
      "execution_count": 1,
      "outputs": []
    },
    {
      "cell_type": "code",
      "source": [
        "#  Average steps to reach 1, 2, 4 loop graphed:\n",
        "x_values, y_values = [], []\n",
        "average = 0\n",
        "for N in range(1, 100001):\n",
        "    x_values.append(N)\n",
        "    steps = 0\n",
        "    n = N\n",
        "    while n not in [1, 2, 4]:\n",
        "        n = collatz(n)\n",
        "        steps += 1\n",
        "    average = ((N - 1) * average + steps) / N\n",
        "    y_values.append(average)\n",
        "\n",
        "plt.scatter(x_values, y_values, s=1, c='red')\n",
        "plt.show()"
      ],
      "metadata": {
        "colab": {
          "base_uri": "https://localhost:8080/",
          "height": 265
        },
        "id": "Y0gsjVBQxRKT",
        "outputId": "67f72173-376e-46e3-e303-cc4557561411"
      },
      "execution_count": 20,
      "outputs": [
        {
          "output_type": "display_data",
          "data": {
            "image/png": "[encoded data removed]",
            "text/plain": [
              "<Figure size 432x288 with 1 Axes>"
            ]
          },
          "metadata": {
            "needs_background": "light"
          }
        }
      ]
    },
    {
      "cell_type": "code",
      "source": [
        "#  A zoom into the right side of the previous graph:\n",
        "x_values, y_values = [], []\n",
        "average = 0\n",
        "for N in range(1, 100001):\n",
        "    x_values.append(N)\n",
        "    steps = 0\n",
        "    n = N\n",
        "    while n not in [1, 2, 4]:\n",
        "        n = collatz(n)\n",
        "        steps += 1\n",
        "    average = ((N - 1) * average + steps) / N\n",
        "    y_values.append(average)\n",
        "\n",
        "plt.scatter(x_values[-10000:], y_values[-10000:], s=1, c='red')\n",
        "plt.show()"
      ],
      "metadata": {
        "colab": {
          "base_uri": "https://localhost:8080/",
          "height": 269
        },
        "id": "KTdaV5Km5ML5",
        "outputId": "b02bceb4-bfb1-4abc-9199-299d6197648a"
      },
      "execution_count": 22,
      "outputs": [
        {
          "output_type": "display_data",
          "data": {
            "image/png": "[encoded data removed]",
            "text/plain": [
              "<Figure size 432x288 with 1 Axes>"
            ]
          },
          "metadata": {
            "needs_background": "light"
          }
        }
      ]
    },
    {
      "cell_type": "markdown",
      "source": [
        "This shows a slow but definite increase.\n",
        "\n",
        "We can conjecture that the average tends to infinity."
      ],
      "metadata": {
        "id": "KO49oYDT_JOV"
      }
    },
    {
      "cell_type": "code",
      "source": [
        "#  Average steps to get smaller graphed:\n",
        "x_values, y_values = [], []\n",
        "average = 0\n",
        "for N in range(2, 100001):\n",
        "    x_values.append(N)\n",
        "    steps = 0\n",
        "    n = N\n",
        "    while n >= N:\n",
        "        n = collatz(n)\n",
        "        steps += 1\n",
        "    average = ((N - 1) * average + steps) / N\n",
        "    y_values.append(average)\n",
        "\n",
        "print(average)\n",
        "plt.scatter(x_values, y_values, s=1, c='red')\n",
        "plt.show()"
      ],
      "metadata": {
        "colab": {
          "base_uri": "https://localhost:8080/",
          "height": 282
        },
        "id": "6LWWcn3fzLyC",
        "outputId": "97232a53-8170-4aae-8b71-4af317a79bf0"
      },
      "execution_count": 17,
      "outputs": [
        {
          "output_type": "stream",
          "name": "stdout",
          "text": [
            "5.209110000000036\n"
          ]
        },
        {
          "output_type": "display_data",
          "data": {
            "image/png": "[encoded data removed]",
            "text/plain": [
              "<Figure size 432x288 with 1 Axes>"
            ]
          },
          "metadata": {
            "needs_background": "light"
          }
        }
      ]
    },
    {
      "cell_type": "code",
      "source": [
        "#  A zoom into the right side of the previous graph:\n",
        "x_values, y_values = [], []\n",
        "average = 0\n",
        "for N in range(2, 100001):\n",
        "    x_values.append(N)\n",
        "    steps = 0\n",
        "    n = N\n",
        "    while n >= N:\n",
        "        n = collatz(n)\n",
        "        steps += 1\n",
        "    average = ((N - 1) * average + steps) / N\n",
        "    y_values.append(average)\n",
        "\n",
        "print(average)\n",
        "plt.scatter(x_values[-10000:], y_values[-10000:], s=1, c='red')\n",
        "plt.show()"
      ],
      "metadata": {
        "colab": {
          "base_uri": "https://localhost:8080/",
          "height": 282
        },
        "id": "zkMLE__j_app",
        "outputId": "8f57266c-f0fd-4835-a4f1-4c32334598e8"
      },
      "execution_count": 25,
      "outputs": [
        {
          "output_type": "stream",
          "name": "stdout",
          "text": [
            "5.209110000000036\n"
          ]
        },
        {
          "output_type": "display_data",
          "data": {
            "image/png": "[encoded data removed]",
            "text/plain": [
              "<Figure size 432x288 with 1 Axes>"
            ]
          },
          "metadata": {
            "needs_background": "light"
          }
        }
      ]
    },
    {
      "cell_type": "markdown",
      "source": [
        "This shows the average number of steps obriting around a fixed value of roughly 5.2\n",
        "\n",
        "Let us explore this value more."
      ],
      "metadata": {
        "id": "fgfplSGL_yZQ"
      }
    },
    {
      "cell_type": "code",
      "source": [
        "#  Finding a more precise average\n",
        "average = 0\n",
        "for N in range(2, 10000001):\n",
        "    if N%1000000 == 0:\n",
        "        print(\"Calculating... {:.0%} complete\".format(N / 10000000))\n",
        "    steps = 0\n",
        "    n = N\n",
        "    while n >= N:\n",
        "        n = collatz(n)\n",
        "        steps += 1\n",
        "    average = ((N - 1) * average + steps) / N\n",
        "\n",
        "print(average)"
      ],
      "metadata": {
        "colab": {
          "base_uri": "https://localhost:8080/"
        },
        "id": "XO4CVA1FAT1r",
        "outputId": "470bd013-12b2-4409-d975-7ccd4cc373f7"
      },
      "execution_count": 36,
      "outputs": [
        {
          "output_type": "stream",
          "name": "stdout",
          "text": [
            "Calculating... 10% complete\n",
            "Calculating... 20% complete\n",
            "Calculating... 30% complete\n",
            "Calculating... 40% complete\n",
            "Calculating... 50% complete\n",
            "Calculating... 60% complete\n",
            "Calculating... 70% complete\n",
            "Calculating... 80% complete\n",
            "Calculating... 90% complete\n",
            "Calculating... 100% complete\n",
            "5.235935099999933\n"
          ]
        }
      ]
    },
    {
      "cell_type": "markdown",
      "source": [
        "From this, we can see that the average still appears to hover around a fixed value.\n",
        "\n",
        "The average number of steps to get smaller after the first 10,000,000 is 5.236"
      ],
      "metadata": {
        "id": "ZO6Fc7zaCrFG"
      }
    },
    {
      "cell_type": "markdown",
      "source": [
        "## Negative integers\n",
        "We've seen how the collatz conjecture works for positive integers, but what might we find if we try applying it to negative integers?"
      ],
      "metadata": {
        "id": "za1mcGY7c2Jy"
      }
    },
    {
      "cell_type": "markdown",
      "source": [
        "Let's start with $-1$"
      ],
      "metadata": {
        "id": "YEsqEbFvpn34"
      }
    },
    {
      "cell_type": "code",
      "source": [
        "n = -1\n",
        "for i in range(10):\n",
        "  print(n)\n",
        "  n = collatz(n)"
      ],
      "metadata": {
        "id": "tgOffsCEc444"
      },
      "execution_count": null,
      "outputs": []
    },
    {
      "cell_type": "markdown",
      "source": [
        "Starting at $-1$ leads to a cycle of -1 → -2 → -1....\n",
        "\n",
        "This means $-2$ will also have this result."
      ],
      "metadata": {
        "id": "jjIqKuvIdBJK"
      }
    },
    {
      "cell_type": "code",
      "source": [
        "#  Testing -3:\n",
        "n = -3\n",
        "for i in range(10):\n",
        "  print(n)\n",
        "  n = collatz(n)"
      ],
      "metadata": {
        "id": "Oh8mcxoQdHrq"
      },
      "execution_count": null,
      "outputs": []
    },
    {
      "cell_type": "markdown",
      "source": [
        "Starting at $-3$ also leads to a -1, -2 cycle.\n"
      ],
      "metadata": {
        "id": "s8NUjaPrq4wn"
      }
    },
    {
      "cell_type": "markdown",
      "source": [
        "#Conjecture A\n",
        "Initally, it seems that all negative integers will lead to a -1 → -2 \n",
        "→ -1 cycle. For now, lets call this Conjecture A, but let's keep exploring."
      ],
      "metadata": {
        "id": "lzM_0t1XdLa4"
      }
    },
    {
      "cell_type": "code",
      "source": [
        "#  Testing Conjecture A for first 100 negative integers:\n",
        "for N in range(-1, -101, -1):\n",
        "  n = N\n",
        "  while n not in [-1, -2]:\n",
        "    print(N, n)\n",
        "    n = collatz(n)\n",
        "print(\"First 100 negative integers successfully terminated\")"
      ],
      "metadata": {
        "id": "QFGWYaUadPR3"
      },
      "execution_count": null,
      "outputs": []
    },
    {
      "cell_type": "markdown",
      "source": [
        "Conjecture A failed at n = -5, which lead to a -5 → -14 → -7 → -20 → -10 → -5... cycle."
      ],
      "metadata": {
        "id": "JRPA_yB3q9Wr"
      }
    },
    {
      "cell_type": "markdown",
      "source": [
        "#Conjecture B\n",
        "Naturally, our next conjecture is that:\n",
        "all negative integers will lead to a -1, -2 cycle or a -14 → -7 → -20 → -10 → -5 cycle. Let's call this Conjecture B."
      ],
      "metadata": {
        "id": "yov3z4X_eUab"
      }
    },
    {
      "cell_type": "code",
      "source": [
        "#  Testing Conjecture B for first 100 negative integers:\n",
        "for N in range(-1, -101, -1):\n",
        "  n = N\n",
        "  while n not in [-1, -2, -5, -14, -7, -20, -10]:\n",
        "    print(N, n)\n",
        "    n = collatz(n)\n",
        "print(\"First 100 negative integers successfully terminated\")"
      ],
      "metadata": {
        "id": "HeUtQ4zsebCD"
      },
      "execution_count": null,
      "outputs": []
    },
    {
      "cell_type": "markdown",
      "source": [
        "Conjecture B failed at -17, which resulted in a shocking long cycle of length 18. This cyle being:\n",
        "\n",
        "-74 → -37 → -110 → -55 → -164 → -82 → -41 → -122 → -61 → -182 → -91 → -272 → -136 → -68 → -34 → -17 → -50 → -25"
      ],
      "metadata": {
        "id": "fHfKD0xvrK-r"
      }
    },
    {
      "cell_type": "markdown",
      "source": [
        "#Conjecture C\n",
        "Conjecture C: all negative integers will lead to a repeating cycle.\n"
      ],
      "metadata": {
        "id": "_1s_pYBMelsX"
      }
    },
    {
      "cell_type": "code",
      "source": [
        "#  Testing Conjecture C for first 100 negative integers:\n",
        "for N in range(-1, -10001, -1):\n",
        "  n = N\n",
        "  current_chain = []\n",
        "  while n not in current_chain:\n",
        "    current_chain.append(n)\n",
        "    n = collatz(n)\n",
        "print(\"First 10,000 negative integers successfully terminated\")"
      ],
      "metadata": {
        "id": "F3umiw76e1Hc"
      },
      "execution_count": null,
      "outputs": []
    },
    {
      "cell_type": "code",
      "source": [
        "#  More testing on the terminal properties of large negative numbers:\n",
        "for N in range(-10000000001, -10000000101, -1):\n",
        "  n = N\n",
        "  current_chain = []\n",
        "  while n not in current_chain:\n",
        "    current_chain.append(n)\n",
        "    n = collatz(n)\n",
        "  loop_len = len(current_chain) - current_chain.index(n)\n",
        "  print(N, loop_len, current_chain[-loop_len:])"
      ],
      "metadata": {
        "id": "5tR4-cd8UxCN"
      },
      "execution_count": null,
      "outputs": []
    },
    {
      "cell_type": "markdown",
      "source": [
        "#Negative Integers Conclusion and Conjecture D\n",
        "After testing all negative numbers up to -10,000,000,000 for their final cycle length and final cycle, it was found that all negative numbers end up in one of the following cycles:\n",
        "\n",
        "\n",
        "1.   [-2, -1]\n",
        "2.   [-14, -7, -20, -10, -5]\n",
        "3.   [-74, -37, -110, -55, -164, -82, -41, -122, -61, -182, -91, -272, -136, -68, -34, -17, -50, -25]\n",
        "\n",
        "Conjecture D: All negative numbers will end up in one of the above cycles."
      ],
      "metadata": {
        "id": "CLPtx9lSYDdA"
      }
    },
    {
      "cell_type": "markdown",
      "source": [
        "##A Change of \"Rules\"\n",
        "We've made some interesting discoveries in regards to both the standard Collatz Conjecture, and applying such to negative integers.\n",
        "\n",
        "Let's see what happens if we change our algorithm to something other than 3n + 1 if odd, and n/2 when even."
      ],
      "metadata": {
        "id": "B4FPnnWUVo6i"
      }
    },
    {
      "cell_type": "markdown",
      "source": [
        "#$3n -1$\n",
        "First, let's see what happens if n is odd, we once again multiply by 3, but this time we'll subtract 1 rather than add 1."
      ],
      "metadata": {
        "id": "fN6aUq_6WPlI"
      }
    },
    {
      "cell_type": "code",
      "source": [
        "def modified_collatz1(n):\n",
        "  return [n//2, 3*n-1][n%2]"
      ],
      "metadata": {
        "id": "XlCAaX07Vs2K"
      },
      "execution_count": null,
      "outputs": []
    },
    {
      "cell_type": "markdown",
      "source": [
        "Let's see how this works for the first 100 positive integers."
      ],
      "metadata": {
        "id": "u66hw1aJYLwh"
      }
    },
    {
      "cell_type": "code",
      "source": [
        "for N in range(1, 101):\n",
        "  n = N\n",
        "  while n not in [1, 2, 4]:\n",
        "    print(N, n)\n",
        "    n = modified_collatz1(n)\n",
        "print(\"First 100 negative integers successfully terminated\")"
      ],
      "metadata": {
        "id": "3pCT1OXLYGsT"
      },
      "execution_count": null,
      "outputs": []
    },
    {
      "cell_type": "markdown",
      "source": [
        "Once n = 5, we get stuck in a loop of 5 → 14 → 7 → 20 → 10, → 5...\n",
        "\n",
        "This is very similar to when we first attempted to apply the original Collatz Conjecture to negative integers. \n",
        "\n",
        "That makes sense, adding 1 to a negative number, results in the same difference as subtracting 1 from a positive number."
      ],
      "metadata": {
        "id": "GDZImhs4YosQ"
      }
    },
    {
      "cell_type": "markdown",
      "source": [
        "#$3n + 2$\n",
        "What if we multiply by 3 and add 2 if n is odd?"
      ],
      "metadata": {
        "id": "583Pfw2Yaij-"
      }
    },
    {
      "cell_type": "code",
      "source": [
        "def modified_collatz2(n):\n",
        "  return [n//2, 3*n+2][n%2]"
      ],
      "metadata": {
        "id": "88VxmYiNaj2x"
      },
      "execution_count": null,
      "outputs": []
    },
    {
      "cell_type": "code",
      "source": [
        "#WARNING VERY LARGE NUMBERS\n",
        "for N in range(1, 4):\n",
        "  n = N\n",
        "  while n not in [1, 2, 4]:\n",
        "    print(N, n)\n",
        "    n = modified_collatz2(n)"
      ],
      "metadata": {
        "id": "auXcroLLcB67"
      },
      "execution_count": null,
      "outputs": []
    },
    {
      "cell_type": "markdown",
      "source": [
        "At only n = 3, this version of the conjecture launches our intger up towards infinity.\n",
        "\n",
        "Thinking through it, we realize:\n",
        "3 → 11 → 35 → 107 → 323 → 971 → 2915 → 8747 → 26243 →...\n",
        "\n",
        "The last digits of each number seem to be in a cycle of 3 → 1 → 5 → 7 → 3...\n",
        "\n",
        "Because of this, n will always be odd. Since n increases (3n + 2) when odd, and decreases when even (n//2), conjectures will always appraoch infinity unless n is able to be even."
      ],
      "metadata": {
        "id": "ffEyUIZFdeZj"
      }
    }
  ]
}