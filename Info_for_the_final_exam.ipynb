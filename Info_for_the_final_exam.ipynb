{
  "nbformat": 4,
  "nbformat_minor": 0,
  "metadata": {
    "colab": {
      "name": "Info_for_the_final_exam.ipynb",
      "provenance": [],
      "include_colab_link": true
    },
    "kernelspec": {
      "name": "python3",
      "display_name": "Python 3"
    },
    "language_info": {
      "name": "python"
    }
  },
  "cells": [
    {
      "cell_type": "markdown",
      "metadata": {
        "id": "view-in-github",
        "colab_type": "text"
      },
      "source": [
        "<a href=\"https://colab.research.google.com/github/JesseLynch37/Math152/blob/main/Info_for_the_final_exam.ipynb\" target=\"_parent\"><img src=\"https://colab.research.google.com/assets/colab-badge.svg\" alt=\"Open In Colab\"/></a>"
      ]
    },
    {
      "cell_type": "markdown",
      "source": [
        "To open this file on Drive:\n",
        "https://colab.research.google.com/drive/1A2sfq2DA2LR9VfBdw0YjgGGoxpWSMvOf?usp=sharing"
      ],
      "metadata": {
        "id": "NgilLKWDOmJM"
      }
    },
    {
      "cell_type": "markdown",
      "source": [
        "# To practice for the Final exam\n",
        "\n",
        "\n"
      ],
      "metadata": {
        "id": "WxLgUGkZDrPH"
      }
    },
    {
      "cell_type": "markdown",
      "source": [
        "### Create a function that approximates $f(x)$ for $-1<x<1$ with 3 digit-precision. If you know the Taylor series of $f$ about $0$\n",
        "\n",
        "> Input: float between -1 and 1, Output: float.\n",
        "\n"
      ],
      "metadata": {
        "id": "zkPNqWJR52Hl"
      }
    },
    {
      "cell_type": "markdown",
      "source": [
        "### Create a function that checks if a number has repeated sequences of digits or not\n",
        "\n",
        "> Input: integer, Output: boolean\n",
        ". # example: Input: 546343412, Output:True, Input: 345678 Output: False\n",
        "\n"
      ],
      "metadata": {
        "id": "C4MFB1u8e3TI"
      }
    },
    {
      "cell_type": "markdown",
      "source": [
        "### Complete the function so it **returns** what's intended to do\n",
        "```\n",
        "def isprime_list(n):\n",
        "    ''' \n",
        "    Return a list of length n+1\n",
        "    with Trues at prime indices and Falses at composite indices.\n",
        "    '''\n",
        "        \n",
        "    return \n",
        "```"
      ],
      "metadata": {
        "id": "XhWqNtcYDv_C"
      }
    },
    {
      "cell_type": "markdown",
      "source": [
        "### Complete the function so it **returns** what's intended to do\n",
        "```\n",
        "def Gauss_Elimination(A):\n",
        "    ''' \n",
        "    Return a reduced upper triangular  matrix after\n",
        "    performin Gaussian elimination.\n",
        "    Input: np.array A\n",
        "    Output: np.array T\n",
        "    '''\n",
        "\n",
        "    return \n",
        "```"
      ],
      "metadata": {
        "id": "EzJvlB6QBgBG"
      }
    },
    {
      "cell_type": "markdown",
      "source": [
        "### Write a function that checks if a number is prime or *not*"
      ],
      "metadata": {
        "id": "2bI24ImeKB9N"
      }
    },
    {
      "cell_type": "markdown",
      "source": [
        "###Write a function that calculates the trace of a matrix"
      ],
      "metadata": {
        "id": "8r7-MJMlKSMk"
      }
    },
    {
      "cell_type": "markdown",
      "source": [
        "### Write ONE line of code that:\n",
        "\n",
        "- Creates a new numpy array G such that the entries of G are the “gaps” between the entries of A (a 1-dimensional numpy array of integers)\n",
        "\n",
        " > For example, if A = np.array([10,11,12,14,17,31]), then after your code runs, G should be the numpy array np.array([1,1,2,3,14]).\n"
      ],
      "metadata": {
        "id": "Xw2IM1a9I_iZ"
      }
    },
    {
      "cell_type": "markdown",
      "source": [
        "### Describe with words what the following function does\n",
        "\n",
        "```\n",
        "\n",
        "def Enigma(n,list):\n",
        "  L = []\n",
        "  for p in list:\n",
        "    for q in list:\n",
        "      if p < q:\n",
        "        if p*q<n:\n",
        "          L.append(p*q)\n",
        "  L.sort()\n",
        "  return L\n",
        "\n",
        "```"
      ],
      "metadata": {
        "id": "0vKuDYLQK6rR"
      }
    },
    {
      "cell_type": "markdown",
      "source": [
        "### Create a function that counts that returns the number of neccesary steps to reach a given precission when using Newton's method.\n",
        "Your input should be a function, its derivative and the precission. "
      ],
      "metadata": {
        "id": "11BzokLvN4MY"
      }
    },
    {
      "cell_type": "markdown",
      "source": [
        "### Create a function that calculates the derivative of a given polynomial\n",
        "Your input should be the coefficients of your polynomial.\n",
        "Your output should be a lambda function"
      ],
      "metadata": {
        "id": "oLO6vfFzNzUg"
      }
    },
    {
      "cell_type": "markdown",
      "source": [
        "### Consider the array\n",
        "\n",
        "```\n",
        "M = np.zeros ((256 ,256 ,3) , dtype=np.uint8)\n",
        "for x in range(256):\n",
        "  for y in range(256):\n",
        "    M[x,y] = [(10∗x) % 256, 255, 0]\n",
        "```\n",
        "\n",
        "If this array is used to create in image in PIL, using standard RGB pixels, describe in a clear sentence what it will look like."
      ],
      "metadata": {
        "id": "QZTOqcS1L-Wq"
      }
    },
    {
      "cell_type": "markdown",
      "source": [
        "## Some things you should know:\n",
        "\n",
        "- Basic funtions like ```type len  range format replace append ... ``` on different types of objects.\n",
        "- Create specific wated lists using ```list``` and ```range``` and slicing.\n",
        "- How to use ```for``` and ```while``` loops.\n",
        "- Control statements ```if else elif```.\n",
        "- Define and modify functions. This includes defining the inputs and outputs. Use docstring to describe a function. ```def return```\n",
        "- Raise errors (no need to know the different types, just how, where and when to use the command ```raise```)\n",
        "- Extract data from different objects (nth element of a list, or a string or a digit from a number)\n",
        "- List/array slicing, including multidimensional arrays.\n",
        "- List comprehension (one line code to create a list with loops and conditinals)\n",
        "- Time a process ```%timeit``` and know how to optimize it if possible (unnecessary steps)\n",
        "- Difference between lists/arrays and numbers/numpy numbers.\n",
        "- Operate n-dimensional arrays, between them (```+-*/ sum dot``` etc), their built-in functions (```shape```, ```transpose``` or ```T```, etc)\n",
        "- Create arrays using ```zeros ones eye full arange reshape linspace``` etc\n",
        "- Create random arrays using ``random`` subpackage\n",
        "- Plot different types of graphs ```scatter plot hist``` using ```matplotlib``` and the basics comands to alterate a plot ```title``` ```xlabel``` etc.\n",
        "- Create and image from an array using ```PIL```\n",
        "- Modify an Image array (RGB color model + pixel transformation)\n",
        "- Use a systematic brute force to explore diferent conjectures (like you did during the explorations or like in Challenge 3 in NB5)\n",
        "- Express the results of your experiments, say if a conjecture is true or not.\n",
        "\n",
        "\n",
        "\n",
        "Math related:\n",
        "\n",
        "- What is a prime number.\n",
        "- Prime decomposition.\n",
        "- GCD and LCM.\n",
        "- The **Euclidean algorithm**.\n",
        "- Taylor series (Mclaurin) of the functions $e^x, \\frac{1}{1-x}$, from these ones you can deduce the series for other functions like $e^{f(x)}, \\frac{1}{1-f(x)}$ including $\\frac{1}{1+x^2}$. And you can integrate or differentiate all of them! So you can get the series for $\\arctan(x)$.\n",
        "- The **Sieve of Eratosthenes**. (You don't have to memorize the python function, just need to understand what the sieve does)\n",
        "- The **Gaussian elimination** process\n",
        "- How to solve a linear system from involving triangular matrices (forward and backward susbtitution)\n",
        "- How to approximate the solution of an inconsistent linear system (**best fitted line**, parabola, polynomial...)\n",
        "- Algorithm for **Numerical methods** bisention, secant and Newton's (no need to know rate of convergence or more specific things, just the algorithm and how it works on a function).\n",
        "\n",
        "\n",
        "\n",
        "\n"
      ],
      "metadata": {
        "id": "TuHRBGL3DqG3"
      }
    }
  ]
}