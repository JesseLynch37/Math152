{
  "nbformat": 4,
  "nbformat_minor": 0,
  "metadata": {
    "colab": {
      "name": "regression.ipynb",
      "provenance": [],
      "authorship_tag": "ABX9TyPBTqPyVf8Dk8jVIe3CFzfU",
      "include_colab_link": true
    },
    "kernelspec": {
      "name": "python3",
      "display_name": "Python 3"
    },
    "language_info": {
      "name": "python"
    }
  },
  "cells": [
    {
      "cell_type": "markdown",
      "metadata": {
        "id": "view-in-github",
        "colab_type": "text"
      },
      "source": [
        "<a href=\"https://colab.research.google.com/github/JesseLynch37/Math152/blob/main/regression.ipynb\" target=\"_parent\"><img src=\"https://colab.research.google.com/assets/colab-badge.svg\" alt=\"Open In Colab\"/></a>"
      ]
    },
    {
      "cell_type": "markdown",
      "source": [
        "Import needed packages"
      ],
      "metadata": {
        "id": "vjcjg6PZqWAU"
      }
    },
    {
      "cell_type": "code",
      "execution_count": 72,
      "metadata": {
        "id": "p4N-h3YtpE-4"
      },
      "outputs": [],
      "source": [
        "import numpy as np\n",
        "from matplotlib import pyplot as plt"
      ]
    },
    {
      "cell_type": "markdown",
      "source": [
        "A function that graphs a polynomial"
      ],
      "metadata": {
        "id": "PDQROkYnqaan"
      }
    },
    {
      "cell_type": "code",
      "source": [
        "def graph_poly(coeffs, min_x=-1, max_x=1, points=10000, color='red', size='1', show=True, scatter=False, width=1.5):\n",
        "  x = np.linspace(min_x, max_x, points)\n",
        "  y = np.zeros(points)\n",
        "  power = len(coeffs) - 1\n",
        "  for i in range(len(coeffs)):\n",
        "    y += coeffs[i] * x ** (power - i)\n",
        "  if scatter:\n",
        "    plt.scatter(x, y, s=size, c=color)\n",
        "  else:\n",
        "    plt.plot(x, y, linewidth=width, c=color)\n",
        "  if show:\n",
        "    plt.show()"
      ],
      "metadata": {
        "id": "J8IAxeXyqGfa"
      },
      "execution_count": 73,
      "outputs": []
    },
    {
      "cell_type": "markdown",
      "source": [
        "A function that finds R squared given the coefficients of a polynomial and the data points."
      ],
      "metadata": {
        "id": "WwgXG2eZL7QA"
      }
    },
    {
      "cell_type": "code",
      "source": [
        "def R2(coeffs, data_points, print_equation=True):\n",
        "  x, y = np.array(data_points)[:, 0], np.array(data_points)[:, 1]\n",
        "\n",
        "  y_hat = np.zeros(len(x))\n",
        "  power = len(coeffs) - 1\n",
        "  for i in range(len(coeffs)):\n",
        "    y_hat += coeffs[i] * x ** (power - i)\n",
        "\n",
        "  RSS = np.sum((y - y_hat) ** 2)\n",
        "  y_bar = np.average(y)\n",
        "  TSS = np.sum((y - y_bar) ** 2)\n",
        "\n",
        "  if print_equation:\n",
        "    print(\"R^2 = {}\".format(1 - RSS / TSS))\n",
        "  return 1 - RSS / TSS"
      ],
      "metadata": {
        "id": "W-zwR4wyMEwP"
      },
      "execution_count": 74,
      "outputs": []
    },
    {
      "cell_type": "markdown",
      "source": [
        "A function that takes in a set of points and returns [m, b] for the linear regression of the points y = mx + b."
      ],
      "metadata": {
        "id": "IM3spevsqjED"
      }
    },
    {
      "cell_type": "code",
      "source": [
        "def linear_reg(data_points, precision=4):\n",
        "    num_points = len(data_points)\n",
        "    A = np.zeros((num_points, 2))\n",
        "    A[:, :] = data_points\n",
        "    B = np.array(A[:, 1])\n",
        "    A[:, 1] = [1]*num_points\n",
        "    ATA = np.matmul(np.transpose(A), A)\n",
        "    ATB = np.matmul(np.transpose(A), B)\n",
        "    X = np.matmul(np.linalg.inv(ATA), ATB)\n",
        "    X = [round(X[0], precision), round(X[1], precision)]\n",
        "    print(\"y = {}x + {}\".format(X[0], X[1]))\n",
        "    return X"
      ],
      "metadata": {
        "id": "JaYjZsIipaV5"
      },
      "execution_count": 80,
      "outputs": []
    },
    {
      "cell_type": "markdown",
      "source": [
        "Example data set for linear_reg:"
      ],
      "metadata": {
        "id": "Hax0SJEyryIY"
      }
    },
    {
      "cell_type": "code",
      "source": [
        "def line(x):\n",
        "    return 3.141*x - 2.718\n",
        "\n",
        "x = np.linspace(-2, 2, 200)\n",
        "y = line(x) + np.random.randn(200) / 1.5\n",
        "\n",
        "data_points = [(x[i], y[i]) for i in range(len(x))]\n",
        "\n",
        "coeffs = linear_reg(data_points)\n",
        "graph_poly(coeffs, -2, 2, color='purple', width=3, show=False)\n",
        "R2(coeffs, data_points)\n",
        "plt.scatter(x, y, s=2)"
      ],
      "metadata": {
        "colab": {
          "base_uri": "https://localhost:8080/",
          "height": 317
        },
        "id": "jYKfMjXdr1cl",
        "outputId": "cff627b7-913e-4b1a-a3ae-296aa853848b"
      },
      "execution_count": 88,
      "outputs": [
        {
          "output_type": "stream",
          "name": "stdout",
          "text": [
            "y = 3.1547x + -2.725\n",
            "R^2 = 0.9676389363446117\n"
          ]
        },
        {
          "output_type": "execute_result",
          "data": {
            "text/plain": [
              "<matplotlib.collections.PathCollection at 0x7f3a79395b10>"
            ]
          },
          "metadata": {},
          "execution_count": 88
        },
        {
          "output_type": "display_data",
          "data": {
            "image/png": "[encoded data removed]",
            "text/plain": [
              "<Figure size 432x288 with 1 Axes>"
            ]
          },
          "metadata": {
            "needs_background": "light"
          }
        }
      ]
    },
    {
      "cell_type": "markdown",
      "source": [
        "A function that takes in a set of points and returns [a, b, c] for the quadratic regression of the points y = ax^2 + bx + c."
      ],
      "metadata": {
        "id": "kifmitAe-6Mx"
      }
    },
    {
      "cell_type": "code",
      "source": [
        "def quad_reg(data_points, precision=4):\n",
        "    num_points = len(data_points)\n",
        "    A = np.zeros((num_points, 3))\n",
        "    y_values = np.array(data_points)[:, 0]\n",
        "    for j in range(3):\n",
        "        A[:, j] = y_values ** (2 - j)\n",
        "    B = np.array(data_points)[:, 1]\n",
        "    ATA = np.matmul(np.transpose(A), A)\n",
        "    ATB = np.matmul(np.transpose(A), B)\n",
        "    X = np.matmul(np.linalg.inv(ATA), ATB)\n",
        "    X_list = [0]*len(X)\n",
        "    for i in range(len(X)):\n",
        "        X_list[i] = round(X[i], precision)\n",
        "    print(\"y = {}x^2 + {}x + {}\".format(X_list[0], X_list[1], X_list[2]))\n",
        "    return X_list\n"
      ],
      "metadata": {
        "id": "iYGht7yGp20H"
      },
      "execution_count": null,
      "outputs": []
    },
    {
      "cell_type": "markdown",
      "source": [
        "Example data set for quad_reg:"
      ],
      "metadata": {
        "id": "j4dRcBPCsmAJ"
      }
    },
    {
      "cell_type": "code",
      "source": [
        "def quad(x):\n",
        "    return 0.78 * x ** 2 - 1.88 * x - 1.15\n",
        "\n",
        "x = np.linspace(-1, 3, 2000)\n",
        "y = quad(x) + np.random.randn(2000) / 5\n",
        "\n",
        "data_points = [(x[i], y[i]) for i in range(len(x))]\n",
        "\n",
        "coeffs = quad_reg(data_points)\n",
        "graph_poly(coeffs, -1, 3, color='purple', width=3, show=False)\n",
        "R2(coeffs, data_points)\n",
        "plt.scatter(x, y, s=1)"
      ],
      "metadata": {
        "colab": {
          "base_uri": "https://localhost:8080/",
          "height": 317
        },
        "id": "UXzzW3tLspHJ",
        "outputId": "25534cc4-6c20-40c2-ee94-8b2215084d31"
      },
      "execution_count": 89,
      "outputs": [
        {
          "output_type": "stream",
          "name": "stdout",
          "text": [
            "y = 0.7811x^2 + -1.886x + -1.1399\n",
            "R^2 = 0.9617101447419075\n"
          ]
        },
        {
          "output_type": "execute_result",
          "data": {
            "text/plain": [
              "<matplotlib.collections.PathCollection at 0x7f3a7933d810>"
            ]
          },
          "metadata": {},
          "execution_count": 89
        },
        {
          "output_type": "display_data",
          "data": {
            "image/png": "[encoded data removed]",
            "text/plain": [
              "<Figure size 432x288 with 1 Axes>"
            ]
          },
          "metadata": {
            "needs_background": "light"
          }
        }
      ]
    },
    {
      "cell_type": "markdown",
      "source": [
        "A function that takes in a set of points and returns a list of coefficients for the polynomial regression with the power corresponding to the *power* argument."
      ],
      "metadata": {
        "id": "o9fUGmYbAI2s"
      }
    },
    {
      "cell_type": "code",
      "source": [
        "def poly_reg(data_points, power=1, precision=4):\n",
        "    num_points = len(data_points)\n",
        "    A = np.zeros((num_points, power + 1))\n",
        "    y_values = np.array(data_points)[:, 0]\n",
        "    for j in range(power + 1):\n",
        "        A[:, j] = y_values ** (power - j)\n",
        "    B = np.array(data_points)[:, 1]\n",
        "    ATA = np.matmul(np.transpose(A), A)\n",
        "    ATB = np.matmul(np.transpose(A), B)\n",
        "    X = np.matmul(np.linalg.inv(ATA), ATB)\n",
        "    X_list = [0]*len(X)\n",
        "    for i in range(len(X)):\n",
        "        X_list[i] = round(X[i], precision)\n",
        "\n",
        "    equation = \"y = \"\n",
        "    for p in range(power + 1)[::-1]:\n",
        "        if p > 1:\n",
        "            equation = equation + \"{}x^{} + \".format(X_list[-1-p], p)\n",
        "        elif p == 1:\n",
        "            equation = equation + \"{}x + \".format(X_list[-1-p])\n",
        "        elif p == 0:\n",
        "            equation = equation + \"{}\".format(X_list[-1])\n",
        "    print(equation)\n",
        "    return X_list"
      ],
      "metadata": {
        "id": "PiiNWeTapvBv"
      },
      "execution_count": null,
      "outputs": []
    },
    {
      "cell_type": "markdown",
      "source": [
        "Example data set for poly_reg:"
      ],
      "metadata": {
        "id": "BINJNrntrq8A"
      }
    },
    {
      "cell_type": "code",
      "source": [
        "def polynomial(x):\n",
        "    return -0.76*x**5 - x**4 + 3.64*x**3 + 3.45*x**2 - 2.15*x - 1.36\n",
        "\n",
        "x = np.linspace(-2, 2, 400)\n",
        "y = polynomial(x) + np.random.randn(400) / 3\n",
        "\n",
        "data_points = [(x[i], y[i]) for i in range(len(x))]\n",
        "\n",
        "coeffs = poly_reg(data_points, 5)\n",
        "graph_poly(coeffs, -2, 2, color='purple', width=3, show=False)\n",
        "R2(coeffs, data_points)\n",
        "plt.scatter(x, y, s=1.5)"
      ],
      "metadata": {
        "colab": {
          "base_uri": "https://localhost:8080/",
          "height": 317
        },
        "id": "nhJpC4sFq4RH",
        "outputId": "0e029462-10ba-49d8-8f37-cebcd990991c"
      },
      "execution_count": 91,
      "outputs": [
        {
          "output_type": "stream",
          "name": "stdout",
          "text": [
            "y = -0.7513x^5 + -0.9783x^4 + 3.61x^3 + 3.3755x^2 + -2.1563x + -1.3356\n",
            "R^2 = 0.9795050916017352\n"
          ]
        },
        {
          "output_type": "execute_result",
          "data": {
            "text/plain": [
              "<matplotlib.collections.PathCollection at 0x7f3a7931c8d0>"
            ]
          },
          "metadata": {},
          "execution_count": 91
        },
        {
          "output_type": "display_data",
          "data": {
            "image/png": "[encoded data removed]",
            "text/plain": [
              "<Figure size 432x288 with 1 Axes>"
            ]
          },
          "metadata": {
            "needs_background": "light"
          }
        }
      ]
    }
  ]
}